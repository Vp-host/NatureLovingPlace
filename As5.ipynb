{
 "cells": [
  {
   "cell_type": "code",
   "execution_count": 1,
   "id": "e2750a5c",
   "metadata": {},
   "outputs": [],
   "source": [
    "import nltk\n",
    "from nltk.stem import SnowballStemmer\n",
    "from nltk.stem import WordNetLemmatizer"
   ]
  },
  {
   "cell_type": "code",
   "execution_count": 2,
   "id": "44f36cdd",
   "metadata": {},
   "outputs": [
    {
     "name": "stderr",
     "output_type": "stream",
     "text": [
      "[nltk_data] Downloading package wordnet to C:\\Users\\Vishal\n",
      "[nltk_data]     Pattar\\AppData\\Roaming\\nltk_data...\n",
      "[nltk_data]   Package wordnet is already up-to-date!\n",
      "[nltk_data] Downloading package omw-1.4 to C:\\Users\\Vishal\n",
      "[nltk_data]     Pattar\\AppData\\Roaming\\nltk_data...\n",
      "[nltk_data]   Package omw-1.4 is already up-to-date!\n"
     ]
    },
    {
     "data": {
      "text/plain": [
       "True"
      ]
     },
     "execution_count": 2,
     "metadata": {},
     "output_type": "execute_result"
    }
   ],
   "source": [
    "nltk.download('wordnet')\n",
    "nltk.download('omw-1.4')"
   ]
  },
  {
   "cell_type": "code",
   "execution_count": 3,
   "id": "98c5ab61",
   "metadata": {},
   "outputs": [],
   "source": [
    "stemmer = SnowballStemmer(\"english\")\n",
    "lemm = WordNetLemmatizer()"
   ]
  },
  {
   "cell_type": "code",
   "execution_count": 4,
   "id": "6590ecbb",
   "metadata": {},
   "outputs": [],
   "source": [
    "def get_suffix(orig, stem, lemma):\n",
    "    if orig.startswith(stem) and len(stem) < len(orig):\n",
    "        return orig[len(stem):]\n",
    "    elif orig.startswith(lemma) and len(lemma) < len(orig):\n",
    "        return orig[len(lemma):] \n",
    "    elif stem.startswith(orig) or lemma.startswith(orig):\n",
    "        return \"-\"\n",
    "    return \"no change\"\n",
    "\n",
    "def get_prefix(orig, lemmed):\n",
    "    if orig.endswith(lemmed):\n",
    "        return orig[:-len(lemmed)] or \"-\"\n",
    "    return \"no match\""
   ]
  },
  {
   "cell_type": "code",
   "execution_count": 5,
   "id": "97298cb7",
   "metadata": {},
   "outputs": [
    {
     "name": "stdout",
     "output_type": "stream",
     "text": [
      "Word         | Stem       | Lemma        | Prefix         | Suffix        \n",
      "----------------------------------------------------------------------\n",
      "histories    | histori    | history      | no match       | es            \n",
      "writting     | writ       | writting     | -              | ting          \n",
      "unhappy      | unhappi    | unhappy      | -              | -             \n",
      "running      | run        | run          | no match       | ning          \n",
      "better       | better     | good         | no match       | -             \n",
      "flying       | fli        | fly          | no match       | ing           \n",
      "cities       | citi       | city         | no match       | es            \n",
      "happier      | happier    | happy        | no match       | -             \n",
      "played       | play       | play         | no match       | ed            \n",
      "studies      | studi      | study        | no match       | es            \n",
      "easily       | easili     | easily       | -              | -             \n",
      "children     | children   | child        | no match       | ren           \n"
     ]
    }
   ],
   "source": [
    "words = [\n",
    "    ('histories', 'n'),\n",
    "    ('writting', 'v'),\n",
    "    ('unhappy', 'a'),\n",
    "    ('running', 'v'),\n",
    "    ('better', 'a'),\n",
    "    ('flying', 'v'),\n",
    "    ('cities', 'n'),\n",
    "    ('happier', 'a'),\n",
    "    ('played', 'v'),\n",
    "    ('studies', 'n'),\n",
    "    ('easily', 'r'),\n",
    "    ('children', 'n'),\n",
    "]\n",
    "\n",
    "# Header\n",
    "print(f\"{'Word':<12} | {'Stem':<10} | {'Lemma':<12} | {'Prefix':<14} | {'Suffix':<14}\")\n",
    "print(\"-\" * 70)\n",
    "\n",
    "# Process\n",
    "for word, pos in words:\n",
    "    stem = stemmer.stem(word)\n",
    "    lemma = lemm.lemmatize(word, pos=pos)\n",
    "    prefix = get_prefix(word, lemma)\n",
    "    suffix = get_suffix(word, stem, lemma)\n",
    "    \n",
    "    print(f\"{word:<12} | {stem:<10} | {lemma:<12} | {prefix:<14} | {suffix:<14}\")"
   ]
  },
  {
   "cell_type": "code",
   "execution_count": null,
   "id": "08cafc5b",
   "metadata": {},
   "outputs": [],
   "source": []
  }
 ],
 "metadata": {
  "kernelspec": {
   "display_name": "Python 3",
   "language": "python",
   "name": "python3"
  },
  "language_info": {
   "codemirror_mode": {
    "name": "ipython",
    "version": 3
   },
   "file_extension": ".py",
   "mimetype": "text/x-python",
   "name": "python",
   "nbconvert_exporter": "python",
   "pygments_lexer": "ipython3",
   "version": "3.11.5"
  }
 },
 "nbformat": 4,
 "nbformat_minor": 5
}
