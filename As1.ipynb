{
 "cells": [
  {
   "cell_type": "markdown",
   "id": "dc4e8d53",
   "metadata": {},
   "source": [
    "Perform tokenization (Whitespace, Punctuation-based, Treebank, Tweet, MWE) using NLTK library. \n",
    "Use porter stemmer and snowball stemmer for stemming. Use any technique for lemmatization.  "
   ]
  },
  {
   "cell_type": "code",
   "execution_count": 9,
   "id": "b9b3642e",
   "metadata": {},
   "outputs": [],
   "source": [
    "import nltk\n",
    "from nltk.tokenize import word_tokenize, WhitespaceTokenizer, PunktSentenceTokenizer, TreebankWordTokenizer, TweetTokenizer, MWETokenizer\n",
    "from nltk.stem import PorterStemmer, SnowballStemmer, WordNetLemmatizer"
   ]
  },
  {
   "cell_type": "code",
   "execution_count": 10,
   "id": "9a39e586",
   "metadata": {},
   "outputs": [
    {
     "name": "stderr",
     "output_type": "stream",
     "text": [
      "[nltk_data] Downloading package punkt to C:\\Users\\Vishal\n",
      "[nltk_data]     Pattar\\AppData\\Roaming\\nltk_data...\n",
      "[nltk_data]   Package punkt is already up-to-date!\n",
      "[nltk_data] Downloading package wordnet to C:\\Users\\Vishal\n",
      "[nltk_data]     Pattar\\AppData\\Roaming\\nltk_data...\n",
      "[nltk_data]   Package wordnet is already up-to-date!\n"
     ]
    },
    {
     "data": {
      "text/plain": [
       "True"
      ]
     },
     "execution_count": 10,
     "metadata": {},
     "output_type": "execute_result"
    }
   ],
   "source": [
    "nltk.download(\"punkt\")\n",
    "nltk.download(\"wordnet\")"
   ]
  },
  {
   "cell_type": "code",
   "execution_count": 11,
   "id": "af1cd88f",
   "metadata": {},
   "outputs": [],
   "source": [
    "text = \"Hello, I'm Vishal Pattar from Pune, India. New Delhi is the capital city of India I like to code in Python. #Python #code\""
   ]
  },
  {
   "cell_type": "code",
   "execution_count": 12,
   "id": "da9039db",
   "metadata": {},
   "outputs": [
    {
     "name": "stdout",
     "output_type": "stream",
     "text": [
      "Original Text:  Hello, I'm Vishal Pattar from Pune, India. New Delhi is the capital city of India I like to code in Python. #Python #code\n"
     ]
    }
   ],
   "source": [
    "print(\"Original Text: \", text)"
   ]
  },
  {
   "cell_type": "code",
   "execution_count": 13,
   "id": "e9c51c34",
   "metadata": {},
   "outputs": [],
   "source": [
    "ws_tokenizer = WhitespaceTokenizer()\n",
    "ps_tokenizer = PunktSentenceTokenizer()\n",
    "tb_tokenizer = TreebankWordTokenizer()\n",
    "tw_tokenizer = TweetTokenizer()\n",
    "mwe_tokenizer = MWETokenizer([(\"Vishal\", \"Pattar\"), (\"New\", \"Delhi\")])"
   ]
  },
  {
   "cell_type": "code",
   "execution_count": 14,
   "id": "eb923f18",
   "metadata": {},
   "outputs": [
    {
     "name": "stdout",
     "output_type": "stream",
     "text": [
      "White Space Tokenizer:  ['Hello,', \"I'm\", 'Vishal', 'Pattar', 'from', 'Pune,', 'India.', 'New', 'Delhi', 'is', 'the', 'capital', 'city', 'of', 'India', 'I', 'like', 'to', 'code', 'in', 'Python.', '#Python', '#code']\n",
      "Punctuation Tokenizer:  [\"Hello, I'm Vishal Pattar from Pune, India.\", 'New Delhi is the capital city of India I like to code in Python.', '#Python #code']\n",
      "Tree Bank Tokenizer:  ['Hello', ',', 'I', \"'m\", 'Vishal', 'Pattar', 'from', 'Pune', ',', 'India.', 'New', 'Delhi', 'is', 'the', 'capital', 'city', 'of', 'India', 'I', 'like', 'to', 'code', 'in', 'Python.', '#', 'Python', '#', 'code']\n",
      "Tweet Tokenizer:  ['Hello', ',', \"I'm\", 'Vishal', 'Pattar', 'from', 'Pune', ',', 'India', '.', 'New', 'Delhi', 'is', 'the', 'capital', 'city', 'of', 'India', 'I', 'like', 'to', 'code', 'in', 'Python', '.', '#Python', '#code']\n",
      "MWE Tokenizer:  ['Hello,', \"I'm\", 'Vishal_Pattar', 'from', 'Pune,', 'India.', 'New_Delhi', 'is', 'the', 'capital', 'city', 'of', 'India', 'I', 'like', 'to', 'code', 'in', 'Python.', '#Python', '#code']\n"
     ]
    }
   ],
   "source": [
    "print(\"White Space Tokenizer: \", ws_tokenizer.tokenize(text))\n",
    "print(\"Punctuation Tokenizer: \", ps_tokenizer.tokenize(text))\n",
    "print(\"Tree Bank Tokenizer: \", tb_tokenizer.tokenize(text))\n",
    "print(\"Tweet Tokenizer: \", tw_tokenizer.tokenize(text))\n",
    "print(\"MWE Tokenizer: \", mwe_tokenizer.tokenize(text.split()))"
   ]
  },
  {
   "cell_type": "code",
   "execution_count": 16,
   "id": "a4552b3e",
   "metadata": {},
   "outputs": [],
   "source": [
    "tokens = word_tokenize(text)\n",
    "porter = PorterStemmer()\n",
    "snowball = SnowballStemmer(\"english\")\n",
    "lemmatizer = WordNetLemmatizer()"
   ]
  },
  {
   "cell_type": "code",
   "execution_count": 19,
   "id": "b4114611",
   "metadata": {},
   "outputs": [
    {
     "name": "stdout",
     "output_type": "stream",
     "text": [
      "Tokens:  ['Hello', ',', 'I', \"'m\", 'Vishal', 'Pattar', 'from', 'Pune', ',', 'India', '.', 'New', 'Delhi', 'is', 'the', 'capital', 'city', 'of', 'India', 'I', 'like', 'to', 'code', 'in', 'Python', '.', '#', 'Python', '#', 'code']\n",
      "Porter Stems:  ['hello', ',', 'i', \"'m\", 'vishal', 'pattar', 'from', 'pune', ',', 'india', '.', 'new', 'delhi', 'is', 'the', 'capit', 'citi', 'of', 'india', 'i', 'like', 'to', 'code', 'in', 'python', '.', '#', 'python', '#', 'code']\n",
      "Snowball Stems:  ['hello', ',', 'i', \"'m\", 'vishal', 'pattar', 'from', 'pune', ',', 'india', '.', 'new', 'delhi', 'is', 'the', 'capit', 'citi', 'of', 'india', 'i', 'like', 'to', 'code', 'in', 'python', '.', '#', 'python', '#', 'code']\n",
      "WordNet Lemma:  ['Hello', ',', 'I', \"'m\", 'Vishal', 'Pattar', 'from', 'Pune', ',', 'India', '.', 'New', 'Delhi', 'be', 'the', 'capital', 'city', 'of', 'India', 'I', 'like', 'to', 'code', 'in', 'Python', '.', '#', 'Python', '#', 'code']\n"
     ]
    }
   ],
   "source": [
    "print(\"Tokens: \", tokens)\n",
    "print(\"Porter Stems: \", [porter.stem(word) for word in tokens])\n",
    "print(\"Snowball Stems: \", [snowball.stem(word) for word in tokens])\n",
    "print(\"WordNet Lemma: \", [lemmatizer.lemmatize(word, pos='v') for word in tokens])"
   ]
  }
 ],
 "metadata": {
  "kernelspec": {
   "display_name": "Python 3",
   "language": "python",
   "name": "python3"
  },
  "language_info": {
   "codemirror_mode": {
    "name": "ipython",
    "version": 3
   },
   "file_extension": ".py",
   "mimetype": "text/x-python",
   "name": "python",
   "nbconvert_exporter": "python",
   "pygments_lexer": "ipython3",
   "version": "3.11.5"
  }
 },
 "nbformat": 4,
 "nbformat_minor": 5
}
