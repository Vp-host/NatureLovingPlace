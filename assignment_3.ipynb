{
 "cells": [
  {
   "cell_type": "markdown",
   "id": "b0ef783f",
   "metadata": {},
   "source": [
    "## Assignment No-3\n",
    "**Name** - Vishal Pattar  \n",
    "**Roll No** - 43556  \n",
    "**Class** - BE AIML  \n",
    "**Batch** - Batch D  \n",
    "**Subject** - Natural Language Processing"
   ]
  },
  {
   "cell_type": "markdown",
   "id": "962a390b",
   "metadata": {},
   "source": [
    "### Problem Statement\n",
    "\n",
    "Perform text cleaning, perform lemmatization (any method), remove stop words (any method), \n",
    "label encoding. Create representations using TF-IDF. Save outputs.   "
   ]
  },
  {
   "cell_type": "code",
   "execution_count": 1,
   "id": "328ce504",
   "metadata": {},
   "outputs": [
    {
     "name": "stderr",
     "output_type": "stream",
     "text": [
      "[nltk_data] Downloading package punkt to C:\\Users\\Vishal\n",
      "[nltk_data]     Pattar\\AppData\\Roaming\\nltk_data...\n",
      "[nltk_data]   Package punkt is already up-to-date!\n",
      "[nltk_data] Downloading package wordnet to C:\\Users\\Vishal\n",
      "[nltk_data]     Pattar\\AppData\\Roaming\\nltk_data...\n",
      "[nltk_data]   Package wordnet is already up-to-date!\n",
      "[nltk_data] Downloading package stopwords to C:\\Users\\Vishal\n",
      "[nltk_data]     Pattar\\AppData\\Roaming\\nltk_data...\n",
      "[nltk_data]   Package stopwords is already up-to-date!\n"
     ]
    },
    {
     "data": {
      "text/plain": [
       "True"
      ]
     },
     "execution_count": 1,
     "metadata": {},
     "output_type": "execute_result"
    }
   ],
   "source": [
    "import pandas as pd\n",
    "import numpy as np\n",
    "import re\n",
    "import nltk\n",
    "from sklearn.feature_extraction.text import TfidfVectorizer\n",
    "from sklearn.preprocessing import LabelEncoder\n",
    "nltk.download('punkt')\n",
    "nltk.download('wordnet')\n",
    "nltk.download('stopwords')"
   ]
  },
  {
   "cell_type": "code",
   "execution_count": 2,
   "id": "0fe8721a",
   "metadata": {},
   "outputs": [
    {
     "name": "stdout",
     "output_type": "stream",
     "text": [
      "   id        topic sentiment  \\\n",
      "0   1  Borderlands  Positive   \n",
      "1   2  Borderlands  Negative   \n",
      "\n",
      "                                               tweet  \n",
      "0  I'm getting on Borderlands and I will murder y...  \n",
      "1  This game is so bad, I can't believe I bought it.  \n"
     ]
    }
   ],
   "source": [
    "# Sample Data\n",
    "data = {\n",
    "    'id': [1, 2],\n",
    "    'topic': ['Borderlands', 'Borderlands'],\n",
    "    'sentiment': ['Positive', 'Negative'],\n",
    "    'tweet': [\n",
    "        \"I'm getting on Borderlands and I will murder you all!\",\n",
    "        \"This game is so bad, I can't believe I bought it.\"\n",
    "    ]\n",
    "}\n",
    "\n",
    "df = pd.DataFrame(data)\n",
    "print(df.head())"
   ]
  },
  {
   "cell_type": "code",
   "execution_count": 3,
   "id": "626f3a3e",
   "metadata": {},
   "outputs": [
    {
     "name": "stdout",
     "output_type": "stream",
     "text": [
      "                                               tweet  \\\n",
      "0  I'm getting on Borderlands and I will murder y...   \n",
      "1  This game is so bad, I can't believe I bought it.   \n",
      "\n",
      "                     clean_text  \n",
      "0  im getting borderland murder  \n",
      "1  game bad cant believe bought  \n"
     ]
    }
   ],
   "source": [
    "from nltk.corpus import stopwords\n",
    "from nltk.tokenize import word_tokenize\n",
    "from nltk.stem import WordNetLemmatizer\n",
    "\n",
    "stop_words = set(stopwords.words('english'))\n",
    "lemmatizer = WordNetLemmatizer()\n",
    "\n",
    "def preprocess(text):\n",
    "    # Lowercase\n",
    "    text = text.lower()\n",
    "    # Remove URLs, mentions, hashtags, non-alphabetic characters\n",
    "    text = re.sub(r\"http\\S+|@\\w+|#\\w+|[^a-z\\s]\", \"\", text)\n",
    "    # Tokenize\n",
    "    tokens = word_tokenize(text)\n",
    "    # Remove stopwords & lemmatize\n",
    "    tokens = [lemmatizer.lemmatize(word) for word in tokens if word not in stop_words]\n",
    "    return \" \".join(tokens)\n",
    "\n",
    "df['clean_text'] = df['tweet'].apply(preprocess)\n",
    "print(df[['tweet', 'clean_text']])"
   ]
  },
  {
   "cell_type": "code",
   "execution_count": 4,
   "id": "2fd348c4",
   "metadata": {},
   "outputs": [
    {
     "name": "stdout",
     "output_type": "stream",
     "text": [
      "  sentiment  sentiment_encoded\n",
      "0  Positive                  1\n",
      "1  Negative                  0\n"
     ]
    }
   ],
   "source": [
    "# Encode sentiment labels\n",
    "label_encoder = LabelEncoder()\n",
    "df['sentiment_encoded'] = label_encoder.fit_transform(df['sentiment'])\n",
    "print(df[['sentiment', 'sentiment_encoded']])"
   ]
  },
  {
   "cell_type": "code",
   "execution_count": 5,
   "id": "f257c92f",
   "metadata": {},
   "outputs": [
    {
     "name": "stdout",
     "output_type": "stream",
     "text": [
      "        bad   believe  borderland    bought      cant      game  getting   im  \\\n",
      "0  0.000000  0.000000         0.5  0.000000  0.000000  0.000000      0.5  0.5   \n",
      "1  0.447214  0.447214         0.0  0.447214  0.447214  0.447214      0.0  0.0   \n",
      "\n",
      "   murder  \n",
      "0     0.5  \n",
      "1     0.0  \n"
     ]
    }
   ],
   "source": [
    "tfidf = TfidfVectorizer()\n",
    "tfidf_matrix = tfidf.fit_transform(df['clean_text'])\n",
    "\n",
    "# Convert to DataFrame for inspection\n",
    "tfidf_df = pd.DataFrame(tfidf_matrix.toarray(), columns=tfidf.get_feature_names_out())\n",
    "print(tfidf_df.head())"
   ]
  },
  {
   "cell_type": "code",
   "execution_count": 6,
   "id": "05aaee5a",
   "metadata": {},
   "outputs": [
    {
     "name": "stdout",
     "output_type": "stream",
     "text": [
      "Files saved: 'cleaned_tweets.csv' and 'tfidf_features.csv'\n"
     ]
    }
   ],
   "source": [
    "# Save to CSV\n",
    "df.to_csv(\"cleaned_tweets.csv\", index=False)\n",
    "tfidf_df.to_csv(\"tfidf_features.csv\", index=False)\n",
    "print(\"Files saved: 'cleaned_tweets.csv' and 'tfidf_features.csv'\")"
   ]
  }
 ],
 "metadata": {
  "kernelspec": {
   "display_name": "Python 3",
   "language": "python",
   "name": "python3"
  },
  "language_info": {
   "codemirror_mode": {
    "name": "ipython",
    "version": 3
   },
   "file_extension": ".py",
   "mimetype": "text/x-python",
   "name": "python",
   "nbconvert_exporter": "python",
   "pygments_lexer": "ipython3",
   "version": "3.11.5"
  }
 },
 "nbformat": 4,
 "nbformat_minor": 5
}
